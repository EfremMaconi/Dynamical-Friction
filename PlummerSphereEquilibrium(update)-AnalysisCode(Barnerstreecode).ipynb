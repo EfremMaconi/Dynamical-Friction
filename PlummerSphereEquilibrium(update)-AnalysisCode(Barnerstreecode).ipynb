{
 "cells": [
  {
   "cell_type": "code",
   "execution_count": 1,
   "metadata": {},
   "outputs": [],
   "source": [
    "### Plummer Sphere Equilibrium (update) - Analysis code ### "
   ]
  },
  {
   "cell_type": "code",
   "execution_count": 2,
   "metadata": {},
   "outputs": [],
   "source": [
    "# About the code #\n",
    "\n",
    "# The code is divided into five main Sections: \n",
    "# 1 - Setting of useful parameters\n",
    "# 2 - Definition and filling of the time array \n",
    "# 3 - Energy section \n",
    "# 4 - Position section \n",
    "# 5 - Stability Section \n",
    "#\n",
    "# If you want to check the initial conditions (even if it's recommended to do that in the Initial\n",
    "# Condition notebook) you need only to run the Stability Section, choosing 'snapshot_to_check=0'. \n",
    "# In all the other cases, it is mandatory to run Sections 1 and 2 while the execution's order of \n",
    "# the other sections is at the user's discretion (for example, you can run section 1 and 2 and then\n",
    "# run only the Position Section)."
   ]
  },
  {
   "cell_type": "code",
   "execution_count": 3,
   "metadata": {},
   "outputs": [],
   "source": [
    "###################################################################################################################"
   ]
  },
  {
   "cell_type": "code",
   "execution_count": 4,
   "metadata": {},
   "outputs": [],
   "source": [
    "import numpy as np\n",
    "import math\n",
    "import matplotlib.pyplot as plt\n",
    "%matplotlib inline"
   ]
  },
  {
   "cell_type": "code",
   "execution_count": 5,
   "metadata": {},
   "outputs": [],
   "source": [
    "## Section 1 - Setting of useful parameters (Nparticles,TotMass,ScaleRadiusSphere,Nsnapshots) ##"
   ]
  },
  {
   "cell_type": "code",
   "execution_count": 6,
   "metadata": {},
   "outputs": [],
   "source": [
    "## Number of particles, total mass and scale radius of the sphere \n",
    "Nparticles,M,r_scale = np.loadtxt('system_properties.txt') \n",
    "Nparticles = int(Nparticles)\n",
    "m = M/Nparticles # mass of a single particle\n",
    "\n",
    "Ndimensions = 3\n",
    "\n",
    "Nlines_in_snapshot = 3+4*Nparticles # Nparticles(1row)+Ndimensions(1)+time(1)+mass_particles(N)+\n",
    "                                    # +positions(N)+velocities(N)+potential_energy(N)"
   ]
  },
  {
   "cell_type": "code",
   "execution_count": 7,
   "metadata": {},
   "outputs": [],
   "source": [
    "## Reading the name of the generated files (output of 'treecode') and order them chronologically \n",
    "# (each one is the system description at a given snapshot)\n",
    "\n",
    "import glob, os\n",
    "import re # regular expression\n",
    "\n",
    "path_data = '/home/efrem/Astronomia_extragalattica/2-NBodySimulations/6-Dinamical_Friction_(alg:treecodeBarnes)/equilibrio_senza_disturbatore/data'\n",
    "data_files = []\n",
    "os.chdir(path_data)\n",
    "for file in glob.glob(\"*.data\"): # selection of the directory's files that end with '.data'\n",
    "    data_files.append(file)\n",
    "\n",
    "# 'data_files' containes the name of the output 'treecode' files; each file contains the state \n",
    "# of the system at a given time; since the files in 'data_files' are not in chronologival order, \n",
    "# here a code to do that\n",
    " \n",
    "def chronological_order(list):\n",
    "    search_num = re.compile('(^\\d+)') \n",
    "    number_to_name = []\n",
    "    for i in list:\n",
    "        l = search_num.search(i)\n",
    "        number = int(l.group(1))\n",
    "        number_to_name.append(number)\n",
    "    number_to_name = sorted(number_to_name)\n",
    "    # add .data\n",
    "    for i in range(len(number_to_name)):\n",
    "        number_to_name[i]=('{}.data'.format(number_to_name[i]))\n",
    "    return (number_to_name)\n",
    "\n",
    "data_files = chronological_order(data_files)"
   ]
  },
  {
   "cell_type": "code",
   "execution_count": 8,
   "metadata": {},
   "outputs": [],
   "source": [
    "# Number of Snapshots\n",
    "Nsnapshots = len(data_files)\n",
    "Nsnapshots = int(Nsnapshots)"
   ]
  },
  {
   "cell_type": "code",
   "execution_count": 9,
   "metadata": {},
   "outputs": [
    {
     "name": "stdout",
     "output_type": "stream",
     "text": [
      "The total number of snapshots is:, 33\n",
      "\n",
      "The selected snapshots are:  [0, 1, 2, 3, 4, 5, 6, 7, 8, 9, 10, 11, 12, 13, 14, 15, 16, 17, 18, 19, 20, 21, 22, 23, 24, 25, 26, 27, 28, 29, 30, 31, 32]\n",
      "\n",
      "You want to analyze 33 snapshots\n"
     ]
    }
   ],
   "source": [
    "## Selection of the snapshots to analyze\n",
    "# Here you can choose the number of snapshots that you want to analyze. The code is very performant, \n",
    "# so we suggest to analyze all of them ('step=1'). If, however, you want to select some of them you\n",
    "# can modify the 'step' values or you can manually select the ones needed (commented part)\n",
    "\n",
    "sn = 0\n",
    "step = 1 # if 1, analyze all the snapshots\n",
    "selected_snapshot = []\n",
    "for i in range(int(Nsnapshots/step)):\n",
    "    selected_snapshot.append(step*i)\n",
    "\n",
    "# Manual selection\n",
    "#selected_snapshot = [0,Nsnapshots-1] # this is an example, where we analyze the first and the last snaphots\n",
    "\n",
    "print('The total number of snapshots is:,',Nsnapshots)\n",
    "print('\\nThe selected snapshots are: ',selected_snapshot)\n",
    "print('\\nYou want to analyze {} snapshots'.format(len(selected_snapshot)))"
   ]
  },
  {
   "cell_type": "code",
   "execution_count": 10,
   "metadata": {},
   "outputs": [],
   "source": [
    "###################################################################################################################"
   ]
  },
  {
   "cell_type": "code",
   "execution_count": 11,
   "metadata": {},
   "outputs": [],
   "source": [
    "## Section 2 - Definition and filling of the time array ## "
   ]
  },
  {
   "cell_type": "code",
   "execution_count": 12,
   "metadata": {},
   "outputs": [],
   "source": [
    "t = np.empty([len(selected_snapshot)])\n",
    "for i_snapshot in range(Nsnapshots):\n",
    "    file_name = data_files[i_snapshot]\n",
    "    initial_line_time = 2\n",
    "    t[i_snapshot] = np.genfromtxt(file_name,skip_header=initial_line_time,max_rows=1)"
   ]
  },
  {
   "cell_type": "code",
   "execution_count": 13,
   "metadata": {},
   "outputs": [],
   "source": [
    "###################################################################################################################"
   ]
  },
  {
   "cell_type": "code",
   "execution_count": 14,
   "metadata": {},
   "outputs": [],
   "source": [
    "## Section 3 - Energy section "
   ]
  },
  {
   "cell_type": "code",
   "execution_count": 15,
   "metadata": {},
   "outputs": [],
   "source": [
    "# In this Section are computed, for selected snapshots, the total kinetic and the total potential energies per \n",
    "# unit mass.\n",
    "# The kinetic energy, the potential energy and the total energy (sum of the previous ones) are then \n",
    "# plotted respect to time.\n",
    "# The total energy, in principle, should be preserved at every time and should be equal to the total \n",
    "# energy at t=0; for this reason is presented the graph of '(Etot(t)-Etot(t=0))/Etot(t=0) vs. time' \n",
    "# that gives an idea of the conservation of energy deviation (the non perfect conservation of energy \n",
    "# is due to computational approximations)"
   ]
  },
  {
   "cell_type": "code",
   "execution_count": 16,
   "metadata": {},
   "outputs": [],
   "source": [
    "velocities = np.empty([len(selected_snapshot),Nparticles,Ndimensions])\n",
    "\n",
    "initial_line_velocity = 3+2*Nparticles\n",
    "for i_snapshot in range(len(selected_snapshot)):\n",
    "    file_name = data_files[selected_snapshot[i_snapshot]] \n",
    "    velocities[i_snapshot] = np.genfromtxt(file_name,skip_header=initial_line_velocity,max_rows=Nparticles)\n",
    "\n",
    "vx = np.empty([len(selected_snapshot),Nparticles])\n",
    "vy = np.empty([len(selected_snapshot),Nparticles])\n",
    "vz = np.empty([len(selected_snapshot),Nparticles])\n",
    "modV = np.empty([len(selected_snapshot),Nparticles]) \n",
    "\n",
    "for i_snapshot in range(len(selected_snapshot)):\n",
    "    for i_particle in range(Nparticles):\n",
    "        vx[i_snapshot,i_particle] = velocities[i_snapshot][i_particle][0]\n",
    "        vy[i_snapshot,i_particle] = velocities[i_snapshot][i_particle][1]\n",
    "        vz[i_snapshot,i_particle] = velocities[i_snapshot][i_particle][2]\n",
    "modV = pow(vx**2+vy**2+vz**2,0.5)\n",
    "        \n",
    "del velocities # free up memory"
   ]
  },
  {
   "cell_type": "code",
   "execution_count": 17,
   "metadata": {},
   "outputs": [],
   "source": [
    "potential_energy = np.empty([len(selected_snapshot),Nparticles])\n",
    "\n",
    "initial_line_potential = 3+3*Nparticles\n",
    "for i_snapshot in range(len(selected_snapshot)):\n",
    "    file_name = data_files[selected_snapshot[i_snapshot]]\n",
    "    potential_energy[i_snapshot] = np.genfromtxt(file_name,skip_header=initial_line_potential,\n",
    "                                                 max_rows=Nparticles)"
   ]
  },
  {
   "cell_type": "code",
   "execution_count": 18,
   "metadata": {},
   "outputs": [],
   "source": [
    "# Potential and Kinet energy per unit mass\n",
    "Utot = np.sum(potential_energy,1)*0.5 # to avoid double counting\n",
    "Ktot = np.sum(vx**2+vy**2+vz**2,1)*0.5"
   ]
  },
  {
   "cell_type": "code",
   "execution_count": 19,
   "metadata": {},
   "outputs": [
    {
     "data": {
      "image/png": "[encoded data removed]",
      "text/plain": [
       "<Figure size 432x288 with 1 Axes>"
      ]
     },
     "metadata": {
      "needs_background": "light"
     },
     "output_type": "display_data"
    }
   ],
   "source": [
    "## Plot of the ptential energy (U), kinetic energy(K), total energy(U+K)\n",
    "plt.plot(t,Utot,c='b',label='U',marker='x')\n",
    "plt.plot(t,Ktot,c='r',label='K',marker='x')\n",
    "plt.plot(t,Ktot+Utot,c='g',label='U+K',marker='x')\n",
    "\n",
    "plt.title('Energy Plot')\n",
    "plt.xlabel('Time')\n",
    "plt.ylabel('Energy')\n",
    "\n",
    "plt.grid()\n",
    "plt.legend(loc='best')\n",
    "plt.tight_layout()\n",
    "#plt.savefig('energy_plot_(Np={}_M={}_Rscal={}).jpg'.format(Nparticles,M,r_scale)) "
   ]
  },
  {
   "cell_type": "code",
   "execution_count": 20,
   "metadata": {},
   "outputs": [
    {
     "data": {
      "image/png": "[encoded data removed]",
      "text/plain": [
       "<Figure size 432x288 with 1 Axes>"
      ]
     },
     "metadata": {
      "needs_background": "light"
     },
     "output_type": "display_data"
    }
   ],
   "source": [
    "## Plot of '(TotalEnergy(t)-TotalEnergy(t=0))/TotalEnergy(t=0)  vs. Time'\n",
    "diff = ((Utot+Ktot)-(Utot[0]+Ktot[0]))/(Utot[0]+Ktot[0])\n",
    "plt.plot(t[selected_snapshot],diff)\n",
    "\n",
    "plt.title('Energy Error Plot')\n",
    "plt.xlabel('Time')\n",
    "plt.ylabel('(Etot(t)-Etot(0))/Etot(0)')\n",
    "\n",
    "plt.yscale('log')\n",
    "plt.grid()\n",
    "#plt.savefig('energy_diff_plot_(Np={}_M={}_Rscal={}).jpg'.format(Nparticles,M,r_scale)) "
   ]
  },
  {
   "cell_type": "code",
   "execution_count": 21,
   "metadata": {},
   "outputs": [],
   "source": [
    "###################################################################################################################"
   ]
  },
  {
   "cell_type": "code",
   "execution_count": 22,
   "metadata": {},
   "outputs": [],
   "source": [
    "## Section 4 - Position section ##"
   ]
  },
  {
   "cell_type": "code",
   "execution_count": 23,
   "metadata": {},
   "outputs": [],
   "source": [
    "# Subsection 1 - Lagrangian Radius #"
   ]
  },
  {
   "cell_type": "code",
   "execution_count": 24,
   "metadata": {},
   "outputs": [],
   "source": [
    "# Positions\n",
    "positions = np.empty([len(selected_snapshot),Nparticles,Ndimensions])\n",
    "\n",
    "for i_snapshot in range(len(selected_snapshot)):\n",
    "    file_name = data_files[selected_snapshot[i_snapshot]]\n",
    "    initial_line_position = 3+Nparticles\n",
    "    positions[i_snapshot] = np.genfromtxt(file_name,skip_header=initial_line_position,max_rows=Nparticles)\n",
    "\n",
    "x = np.empty([len(selected_snapshot),Nparticles])\n",
    "y = np.empty([len(selected_snapshot),Nparticles])\n",
    "z = np.empty([len(selected_snapshot),Nparticles])\n",
    "dist = np.empty([len(selected_snapshot),Nparticles]) # particles' distance from (0,0,0) at each time\n",
    "\n",
    "for i_snapshot in range(len(selected_snapshot)):\n",
    "    for i_particle in range(Nparticles):\n",
    "        x[i_snapshot,i_particle] = positions[i_snapshot][i_particle][0]\n",
    "        y[i_snapshot,i_particle] = positions[i_snapshot][i_particle][1]\n",
    "        z[i_snapshot,i_particle] = positions[i_snapshot][i_particle][2]\n",
    "dist = pow(x**2+y**2+z**2,0.5)\n",
    "        \n",
    "del positions # free up memory"
   ]
  },
  {
   "cell_type": "code",
   "execution_count": 25,
   "metadata": {},
   "outputs": [],
   "source": [
    "## Lagrangian Radius of the sphere (we do not consider the perturber)\n",
    "\n",
    "p = [20,40,60,80,90] # lagrangian radius that contain that percentage of mass\n",
    "\n",
    "# definition of the lagrangian radius\n",
    "for perc in p:\n",
    "     globals()['LagRad'+str(perc)] = np.empty([len(selected_snapshot)])\n",
    "\n",
    "sorted_distance = np.sort(dist) \n",
    "\n",
    "# filling of the lagrangian radius\n",
    "for i_snapshot in range(len(selected_snapshot)):\n",
    "    for perc in p:\n",
    "         (globals()['LagRad'+str(perc)])[i_snapshot] = (sorted_distance\n",
    "                                                        [i_snapshot][int(perc/100*Nparticles)-1])"
   ]
  },
  {
   "cell_type": "code",
   "execution_count": 26,
   "metadata": {},
   "outputs": [
    {
     "data": {
      "image/png": "[encoded data removed]",
      "text/plain": [
       "<Figure size 432x288 with 1 Axes>"
      ]
     },
     "metadata": {
      "needs_background": "light"
     },
     "output_type": "display_data"
    }
   ],
   "source": [
    "## Plot of the Lagrangian radius\n",
    "for perc in p: \n",
    "    plt.plot(t,globals()['LagRad'+str(perc)],label='LagRad = {}%'.format(perc))\n",
    "\n",
    "plt.axhline(0,0,1,c='k',ls='-')\n",
    "    \n",
    "plt.title('Lagrangian Radius')\n",
    "plt.xlabel('Time')\n",
    "plt.ylabel('Distance from the center (D)')\n",
    "\n",
    "plt.grid()\n",
    "#plt.legend(loc=4)\n",
    "#plt.savefig('LagrangianRadius_(Np={}_M={}_Rscal={}).jpg'.format(Nparticles,M,r_scale))"
   ]
  },
  {
   "cell_type": "code",
   "execution_count": 27,
   "metadata": {
    "scrolled": true
   },
   "outputs": [
    {
     "data": {
      "text/plain": [
       "<matplotlib.legend.Legend at 0x7f20c6840df0>"
      ]
     },
     "execution_count": 27,
     "metadata": {},
     "output_type": "execute_result"
    },
    {
     "data": {
      "image/png": "[encoded data removed]",
      "text/plain": [
       "<Figure size 432x288 with 1 Axes>"
      ]
     },
     "metadata": {
      "needs_background": "light"
     },
     "output_type": "display_data"
    }
   ],
   "source": [
    "## Plot of only two Lagrangian radius and of the corrispondent mean (only two for a better visualization)\n",
    "plt.plot(t,LagRad80,label='LagRad = 80%',marker='.',c='r')\n",
    "plt.plot(t,LagRad90,label='LagRad = 90%',marker='.',c='m')\n",
    "\n",
    "mean80 = sum(LagRad80)/len(LagRad80)\n",
    "mean90 = sum(LagRad90)/len(LagRad90)\n",
    "plt.axhline(mean80,0,1,c='k',ls=':')\n",
    "plt.axhline(mean90,0,1,c='k',ls=':')\n",
    "plt.axhline(0,0,1,c='k',ls='-')\n",
    "\n",
    "plt.title('Lagrangian Radius')\n",
    "plt.xlabel('Time')\n",
    "plt.ylabel('Distance from the center (D)')\n",
    "\n",
    "plt.grid()\n",
    "plt.legend(loc='best')\n",
    "#plt.savefig('LagrangianRadiusMean_(Np={}_M={}_Rscal={}).jpg'.format(Nparticles,M,r_scale)) "
   ]
  },
  {
   "cell_type": "code",
   "execution_count": 28,
   "metadata": {},
   "outputs": [],
   "source": [
    "###################################################################################################################"
   ]
  },
  {
   "cell_type": "code",
   "execution_count": 29,
   "metadata": {},
   "outputs": [],
   "source": [
    "## Center of mass "
   ]
  },
  {
   "cell_type": "code",
   "execution_count": 30,
   "metadata": {},
   "outputs": [],
   "source": [
    "# N = len(selected_snapshot), R = distance vector (only particles with r<=R are considered in the \n",
    "# computation) (ex. R = LagRad80). If you want to consider all particles: \n",
    "# R = np.ones([len(selected_snapshot)])*np.max((np.sort(dist)[-1]))\n",
    "\n",
    "def CoM(N,Nbodies,R,x,y,z,dist,mass_bodies): \n",
    "    M_tot = np.sum(mass_bodies)              \n",
    "    CoM_x = np.empty([N])                   \n",
    "    CoM_y = np.empty([N])\n",
    "    CoM_z = np.empty([N])\n",
    "    for i_snapshot in range(N):\n",
    "        c_x = 0\n",
    "        c_y = 0\n",
    "        c_z = 0\n",
    "        for i_particle in range(Nbodies): \n",
    "            if dist[i_snapshot][i_particle] <= (R[i_snapshot]):\n",
    "                c_x = c_x + x[i_snapshot,i_particle]*mass_bodies[i_particle]\n",
    "                c_y = c_y + y[i_snapshot,i_particle]*mass_bodies[i_particle]\n",
    "                c_z = c_z + z[i_snapshot,i_particle]*mass_bodies[i_particle]\n",
    "        CoM_x[i_snapshot] = c_x\n",
    "        CoM_y[i_snapshot] = c_y\n",
    "        CoM_z[i_snapshot] = c_z    \n",
    "    CoM_x = CoM_x/M_tot\n",
    "    CoM_y = CoM_y/M_tot\n",
    "    CoM_z = CoM_z/M_tot\n",
    "    dist_CoM = pow(CoM_x**2+CoM_y**2+CoM_z**2,0.5)\n",
    "    return CoM_x,CoM_y,CoM_z,dist_CoM"
   ]
  },
  {
   "cell_type": "code",
   "execution_count": 31,
   "metadata": {},
   "outputs": [],
   "source": [
    "mass_bodies = np.ones(Nparticles)*m"
   ]
  },
  {
   "cell_type": "code",
   "execution_count": 32,
   "metadata": {},
   "outputs": [],
   "source": [
    "# CoM where all the particles are considered\n",
    "R = np.ones([len(selected_snapshot)])*np.max((np.sort(dist)[-1]))\n",
    "CoM_x,CoM_y,CoM_z,dist_CoM = CoM(len(selected_snapshot),Nparticles,R,x,y,z,dist,mass_bodies)\n",
    "del R"
   ]
  },
  {
   "cell_type": "code",
   "execution_count": 33,
   "metadata": {},
   "outputs": [],
   "source": [
    "## CoM of the sphere (only particles within LagRad90)\n",
    "R = LagRad90\n",
    "CoM_x2,CoM_y2,CoM_z2,dist_CoM2 = CoM(len(selected_snapshot),Nparticles,R,x,y,z,dist,mass_bodies)\n",
    "del R"
   ]
  },
  {
   "cell_type": "code",
   "execution_count": 34,
   "metadata": {},
   "outputs": [
    {
     "data": {
      "image/png": "[encoded data removed]",
      "text/plain": [
       "<Figure size 432x288 with 1 Axes>"
      ]
     },
     "metadata": {
      "needs_background": "light"
     },
     "output_type": "display_data"
    }
   ],
   "source": [
    "plt.plot(t,dist_CoM,label='all',c='b')\n",
    "plt.plot(t,dist_CoM2,label='within LagRad90',c='r')\n",
    "\n",
    "plt.axhline(0,0,1,c='k',ls='-')\n",
    "\n",
    "plt.title('Distance from (0,0,0) of the system CoM ')\n",
    "plt.xlabel('Time')\n",
    "plt.ylabel('Distance from the center (D)')\n",
    "\n",
    "plt.grid()\n",
    "plt.legend()\n",
    "plt.tight_layout()\n",
    "#plt.savefig('CoM_tot_(Np={}_M={}_Rscal={}).jpg'.format(Nparticles,M,r_scale))"
   ]
  },
  {
   "cell_type": "code",
   "execution_count": 35,
   "metadata": {},
   "outputs": [],
   "source": [
    "###################################################################################################################"
   ]
  },
  {
   "cell_type": "code",
   "execution_count": 36,
   "metadata": {},
   "outputs": [],
   "source": [
    "## Angular momentum of the system"
   ]
  },
  {
   "cell_type": "code",
   "execution_count": 37,
   "metadata": {},
   "outputs": [],
   "source": [
    "def angularMomentum(m,x,y,z,vx,vy,vz):\n",
    "    Lx = (y*vz-z*vy)*m\n",
    "    Ly = (z*vx-x*vz)*m\n",
    "    Lz = (x*vy-y*vx)*m\n",
    "    return Lx,Ly,Lz"
   ]
  },
  {
   "cell_type": "code",
   "execution_count": 38,
   "metadata": {},
   "outputs": [],
   "source": [
    "Lx,Ly,Lz = angularMomentum(mass_bodies,x,y,z,vx,vy,vz)\n",
    "Lmod_tot = pow(np.sum(Lx,1)**2+np.sum(Ly,1)**2+np.sum(Lz,1)**2,0.5)"
   ]
  },
  {
   "cell_type": "code",
   "execution_count": 39,
   "metadata": {},
   "outputs": [
    {
     "data": {
      "image/png": "[encoded data removed]",
      "text/plain": [
       "<Figure size 432x288 with 1 Axes>"
      ]
     },
     "metadata": {
      "needs_background": "light"
     },
     "output_type": "display_data"
    }
   ],
   "source": [
    "plt.plot(t,Lmod_tot)\n",
    "\n",
    "plt.title('Total Angular Momentum')\n",
    "plt.xlabel('Time')\n",
    "plt.ylabel('L')\n",
    "\n",
    "plt.yscale('log')\n",
    "plt.grid()\n",
    "plt.tight_layout()\n",
    "#plt.savefig('AngMom_(Np={}_M={}_Rscal={}).jpg'.format(Nparticles,M,r_scale))"
   ]
  },
  {
   "cell_type": "code",
   "execution_count": 40,
   "metadata": {},
   "outputs": [],
   "source": [
    "###################################################################################################################"
   ]
  },
  {
   "cell_type": "code",
   "execution_count": 41,
   "metadata": {},
   "outputs": [],
   "source": [
    " ## Section 5 - Stability Section ##  "
   ]
  },
  {
   "cell_type": "code",
   "execution_count": 42,
   "metadata": {},
   "outputs": [],
   "source": [
    "# This Section can be used either to check if the initial conditions generated are correct \n",
    "# (the distribution of R, theta and phi, the density function and the q distribution (through \n",
    "# which you check the velocity one)) or to check at a selected snapshot if the positions and the \n",
    "# velocity distributions have changed over time or if they preserved themselves.\n",
    "# To check if the intial conditions are correct choose the 'snapshot_to_check=0'.\n",
    "#\n",
    "# This analysis is made both qualitatively (histogram) and quantitatively (chisquare test) for \n",
    "# the R,theta and phi distributions; for the velocity distribution and for the density one it's \n",
    "# made only qualitatively.\n",
    "#\n",
    "# This Section is divided into three subsections:\n",
    "#\n",
    "# -Subsection 1: Check of the Position distribution (R,theta,phi). \n",
    "#\n",
    "# -Subsection 2: Check of the Density Function. We compute the density function by dividing the sphere \n",
    "#                into shells, calculating the mass embedded in each shell (n_particles*m) and then \n",
    "#                dividing it by the shell's volume\n",
    "#\n",
    "# -Subsection 3: Check of the q distribution. At a snapshot different from the first one (t=0), to check \n",
    "#                if the velocity distribution is correct we derive the q values from the particles'\n",
    "#                velocity and \n",
    "#                potential energy at the selected snapshot and make a normalized histogram; we then plot the \n",
    "#                theorical pdf of q and make a qualitatively comparison. \n",
    "#                For a quantitatively evaluation we need to use the chi-square, whose computation is made \n",
    "#                through the cdf of the q distribution through which one can find the expected frequencies; \n",
    "#                in this case, the cdf must be calculated numerically: this can be done but we decided to \n",
    "#                evaluate the q distribution only qualitatively.\n",
    "#                If the snapshot to analyze is the first one (t=0), we compute q using the potential energy \n",
    "#                computed through the Plummer's potential and not using the 'real' one (this because the \n",
    "#                system evolution has not been already computed and so our data file do not contain the \n",
    "#                potential energy (which in principle can be computed)).\n",
    "# \n",
    "# About the histograms and the statistical choices:\n",
    "# - we decided to use the 'auto' number of bins selection: if the histogram is not too satisfactory \n",
    "#   or if the chi-square test is not passed, try to give manually an appropiate bin selection\n",
    "# - we used a chi square distribution test to verify how well the theoretical distribution fitted \n",
    "#   the empirical ones. To use the chi-square distribution we considered only bins with a number \n",
    "#   of counts greater than 9.\n",
    "# - we plot on the normalized histograms the error bars. We assume a Poissonian distribution for \n",
    "#   the counts and so the error associated to each bin is the square root of the number of counts in \n",
    "#   that bin; for the normalized histogram's error bars we rescale the error dividing it by the area\n",
    "#   of the non-normalized histogram (it's maybe a non correct procedure)"
   ]
  },
  {
   "cell_type": "code",
   "execution_count": 43,
   "metadata": {},
   "outputs": [],
   "source": [
    "from scipy.stats import chisquare"
   ]
  },
  {
   "cell_type": "code",
   "execution_count": 44,
   "metadata": {},
   "outputs": [],
   "source": [
    "snapshot_to_check = Nsnapshots-1"
   ]
  },
  {
   "cell_type": "code",
   "execution_count": 45,
   "metadata": {},
   "outputs": [],
   "source": [
    "if snapshot_to_check == 0:  \n",
    "    Nparticles,M,r_scale = np.loadtxt('system_properties.txt') \n",
    "    Nparticles = int(Nparticles)\n",
    "    m = M/Nparticles \n",
    "    Nlines_in_snapshot = 3+4*Nparticles \n",
    "    file_name = \"initial_conditions_file.txt\"\n",
    "else: file_name = data_files[snapshot_to_check]"
   ]
  },
  {
   "cell_type": "code",
   "execution_count": 46,
   "metadata": {},
   "outputs": [],
   "source": [
    "# Subsection 1 - Check of the Position distribution #"
   ]
  },
  {
   "cell_type": "code",
   "execution_count": 47,
   "metadata": {},
   "outputs": [],
   "source": [
    "positions = np.empty([Nparticles,Ndimensions])\n",
    "x1 = np.empty([Nparticles])\n",
    "y1 = np.empty([Nparticles])\n",
    "z1 = np.empty([Nparticles])\n",
    "\n",
    "radius = np.empty([Nparticles]) \n",
    "theta = np.empty([Nparticles])\n",
    "phi = np.empty([Nparticles])\n",
    "\n",
    "initial_line_position = 3+Nparticles\n",
    "\n",
    "positions = np.genfromtxt(file_name,skip_header=initial_line_position,max_rows=Nparticles)\n",
    "\n",
    "for i_particle in range(Nparticles):\n",
    "    x1[i_particle] = positions[i_particle][0]\n",
    "    y1[i_particle] = positions[i_particle][1]\n",
    "    z1[i_particle] = positions[i_particle][2]\n",
    "    \n",
    "\n",
    "radius = (x1**2+y1**2+z1**2)**(1/2)\n",
    "theta  = np.arccos(z1/radius)\n",
    "phi    = np.arctan2(y1,x1)\n",
    "phi    = phi+np.pi\n",
    "\n",
    "del positions # free up memory"
   ]
  },
  {
   "cell_type": "code",
   "execution_count": 48,
   "metadata": {},
   "outputs": [],
   "source": [
    "## Radius Distribution"
   ]
  },
  {
   "cell_type": "code",
   "execution_count": 49,
   "metadata": {},
   "outputs": [],
   "source": [
    "## pdf and cdf of the radial positions \n",
    "def pdf_r(r,b):\n",
    "    return (3/b**3)*(r**2)*(1+(r/b)**2)**(-5/2) \n",
    "def cdf_r(b,r):\n",
    "    return b**(-3)*r**3/(1+(r/b)**2)**(3/2)"
   ]
  },
  {
   "cell_type": "code",
   "execution_count": 50,
   "metadata": {},
   "outputs": [
    {
     "name": "stdout",
     "output_type": "stream",
     "text": [
      "pvalue: 0.34801585825474207, test superato\n"
     ]
    }
   ],
   "source": [
    "# Chisquare Section #\n",
    "\n",
    "empirical,edges = np.histogram(radius,bins='auto')\n",
    "counts = np.copy(empirical) # used in the histogram section\n",
    "theorical = []\n",
    "for i_bin in range(len(empirical)):\n",
    "    if empirical[i_bin]>9:\n",
    "        prob = cdf_r(r_scale,edges[i_bin+1]) - cdf_r(r_scale,edges[i_bin])\n",
    "        theorical.append(prob*Nparticles)        \n",
    "empirical = empirical[empirical>9] \n",
    "\n",
    "sta, pvalue = chisquare(empirical,theorical)\n",
    "if pvalue>=0.05: print('pvalue: {}, test superato'.format(pvalue))\n",
    "else: print('pvalue: {}, test non superato'.format(pvalue))"
   ]
  },
  {
   "cell_type": "code",
   "execution_count": 51,
   "metadata": {},
   "outputs": [
    {
     "data": {
      "image/png": "[encoded data removed]",
      "text/plain": [
       "<Figure size 432x288 with 1 Axes>"
      ]
     },
     "metadata": {
      "needs_background": "light"
     },
     "output_type": "display_data"
    }
   ],
   "source": [
    "# Histogram Section #\n",
    "\n",
    "# Generation of the normalized histogram and of the error bars\n",
    "area = sum(np.diff(edges)*counts)\n",
    "error = np.sqrt(counts) # Poissonian errors\n",
    "bincenters = 0.5*(edges[1:]+edges[:-1])\n",
    "\n",
    "normalized_counts_r, bin_edges_r, hist_r = plt.hist(radius,bins='auto',range=None,density=True,\n",
    "                                                    color='c',label='Empirical')\n",
    "error = np.divide(error, area) # the error bar must be rescaled since we normalized the histogram \n",
    "plt.errorbar(bincenters,normalized_counts_r,yerr=error,fmt='none',label='error',color='k')\n",
    "\n",
    "## generation of the arrays containing some pdf's points\n",
    "left_range = 0\n",
    "right_range = r_scale*6\n",
    "radius_pdf = np.empty(1000)\n",
    "ascissa = np.linspace(left_range,right_range,1000)     \n",
    "radius_pdf = pdf_r(ascissa,r_scale)\n",
    "\n",
    "plt.plot(ascissa,radius_pdf,color='r',label='pdf(r)')\n",
    "plt.xlim(left_range,right_range)\n",
    "\n",
    "plt.title('R Distribution')\n",
    "plt.xlabel('R',fontsize=12)\n",
    "plt.ylabel('pdf(R)',fontsize=12)\n",
    " \n",
    "plt.legend()\n",
    "plt.tight_layout()\n",
    "#plt.savefig('R_histo_(t={}_Np={}_M={}_Rscal={})_(pval={:3.3}).jpg'.format(t[snapshot_to_check],Nparticles,M,r_scale,pvalue)) \n",
    "\n",
    "# N.B. if you change the scale radius or if you want to see the whole histogram, \n",
    "# you need to do a manual rescale"
   ]
  },
  {
   "cell_type": "code",
   "execution_count": 52,
   "metadata": {},
   "outputs": [],
   "source": [
    "## Phi Distribution"
   ]
  },
  {
   "cell_type": "code",
   "execution_count": 53,
   "metadata": {},
   "outputs": [],
   "source": [
    "## pdf and cdf of the phi angle\n",
    "def pdf_p():\n",
    "    return (2*math.pi)**(-1)\n",
    "def cdf_p(p):\n",
    "    return p*(2*math.pi)**(-1)"
   ]
  },
  {
   "cell_type": "code",
   "execution_count": 54,
   "metadata": {},
   "outputs": [
    {
     "name": "stdout",
     "output_type": "stream",
     "text": [
      "pvalue: 0.05065754231720089, test superato\n"
     ]
    }
   ],
   "source": [
    "# Chisquare Section #\n",
    "\n",
    "empirical,edges = np.histogram(phi,bins=25)\n",
    "counts = np.copy(empirical) # used in the histogram Section\n",
    "theorical = []\n",
    "for i_bin in range(len(empirical)):\n",
    "    if empirical[i_bin]>9:\n",
    "        prob = cdf_p(edges[i_bin+1]) - cdf_p(edges[i_bin])\n",
    "        theorical.append(prob*Nparticles)        \n",
    "empirical = empirical[empirical>9] \n",
    "\n",
    "sta, pvalue = chisquare(empirical,theorical)\n",
    "if pvalue>=0.05: print('pvalue: {}, test superato'.format(pvalue))\n",
    "else: print('pvalue: {}, test non superato'.format(pvalue))"
   ]
  },
  {
   "cell_type": "code",
   "execution_count": 55,
   "metadata": {},
   "outputs": [
    {
     "data": {
      "image/png": "[encoded data removed]",
      "text/plain": [
       "<Figure size 432x288 with 1 Axes>"
      ]
     },
     "metadata": {
      "needs_background": "light"
     },
     "output_type": "display_data"
    }
   ],
   "source": [
    "# Histogram Section # \n",
    "\n",
    "# Generation of the normalized histogram and of the error bars\n",
    "area = sum(np.diff(edges)*counts)\n",
    "error = np.sqrt(counts) # Poissonian errors\n",
    "bincenters = 0.5*(edges[1:]+edges[:-1])\n",
    "\n",
    "normalized_counts_p, Bin_edges_p, hist_p = plt.hist(phi,bins=25,range=None,density=True,\n",
    "                                                    color='c',edgecolor='black',label='Empirical')\n",
    "error = error/area # the error bar must be rescaled since we normalized the histogram \n",
    "plt.errorbar(bincenters,normalized_counts_p,yerr=error,fmt='none',label='error',color='k')\n",
    "\n",
    "## generation of the arrays containing some pdf's points\n",
    "phi_pdf = np.empty(10)\n",
    "ascissa = np.linspace(0,2*math.pi,10)\n",
    "phi_pdf = np.ones(10)*pdf_p()        \n",
    "        \n",
    "plt.plot(ascissa,phi_pdf,color='r',label='pdf(phi)')\n",
    "plt.ylim(0,0.3)\n",
    "\n",
    "plt.title('Phi Distribution') \n",
    "plt.xlabel('phi',fontsize=12)\n",
    "plt.ylabel('pdf(phi)',fontsize=12)\n",
    "\n",
    "plt.legend()\n",
    "plt.tight_layout()\n",
    "#plt.savefig('Phi_histo_(t={}_Np={}_M={}_Rscal={})_(pval={:3.3}).jpg'.format(t[snapshot_to_check],Nparticles,M,r_scale,pvalue)) "
   ]
  },
  {
   "cell_type": "code",
   "execution_count": 56,
   "metadata": {},
   "outputs": [],
   "source": [
    "## Theta Distribution"
   ]
  },
  {
   "cell_type": "code",
   "execution_count": 57,
   "metadata": {},
   "outputs": [],
   "source": [
    "## pdf and cdf of the phi angle\n",
    "def pdf_t(t):\n",
    "    return 0.5*np.sin(t)\n",
    "def cdf_t(t):\n",
    "    return 0.5*(1-np.cos(t))"
   ]
  },
  {
   "cell_type": "code",
   "execution_count": 58,
   "metadata": {},
   "outputs": [
    {
     "name": "stdout",
     "output_type": "stream",
     "text": [
      "pvalue: 0.0952939083548818, test superato\n"
     ]
    }
   ],
   "source": [
    "# Chisquare Section #\n",
    "\n",
    "empirical,edges = np.histogram(theta,bins=44)\n",
    "counts = np.copy(empirical) # used in the Histogram Section\n",
    "theorical = []\n",
    "for i_bin in range(len(empirical)):\n",
    "    if empirical[i_bin]>9:\n",
    "        prob = cdf_t(edges[i_bin+1]) - cdf_t(edges[i_bin])\n",
    "        theorical.append(prob*Nparticles)        \n",
    "empirical = empirical[empirical>9] \n",
    "\n",
    "sta, pvalue = chisquare(empirical,theorical)\n",
    "if pvalue>=0.05: print('pvalue: {}, test superato'.format(pvalue))\n",
    "else: print('pvalue: {}, test non superato'.format(pvalue))"
   ]
  },
  {
   "cell_type": "code",
   "execution_count": 59,
   "metadata": {},
   "outputs": [
    {
     "data": {
      "image/png": "[encoded data removed]",
      "text/plain": [
       "<Figure size 432x288 with 1 Axes>"
      ]
     },
     "metadata": {
      "needs_background": "light"
     },
     "output_type": "display_data"
    }
   ],
   "source": [
    "# Histogram Section #\n",
    "\n",
    "# Generation of the normalized histogram and of the error bars\n",
    "area = sum(np.diff(edges)*counts)\n",
    "error = np.sqrt(counts) # Poissonian errors\n",
    "bincenters = 0.5*(edges[1:]+edges[:-1])\n",
    "\n",
    "normalized_counts_t, Bin_edges_t, hist_t = plt.hist(theta,bins=44,range=None,density=True,\n",
    "                                                    color='c',edgecolor='black',label='Empirical')\n",
    "error = error/area # the error bar must be rescaled since we normalized the histogram \n",
    "plt.errorbar(bincenters,normalized_counts_t,yerr=error,fmt='none',label='error',color='k')\n",
    "\n",
    "## generation of the arrays containing some pdf's points\n",
    "theta_pdf = np.empty(1000)\n",
    "ascissa = np.linspace(0,math.pi,1000)\n",
    "theta_pdf = pdf_t(ascissa)        \n",
    "    \n",
    "plt.plot(ascissa,theta_pdf,color='r',label='pdf(theta)')\n",
    "\n",
    "plt.title('Theta Distribution') \n",
    "plt.xlabel('theta',fontsize=12)\n",
    "plt.ylabel('pdf(theta)',fontsize=12)\n",
    "\n",
    "plt.legend()\n",
    "plt.tight_layout()\n",
    "#plt.savefig('Theta_histo_(t={}_Np={}_M={}_Rscal={})_(pval={:3.3}).jpg'.format(t[snapshot_to_check],Nparticles,M,r_scale,pvalue)) "
   ]
  },
  {
   "cell_type": "code",
   "execution_count": 60,
   "metadata": {},
   "outputs": [],
   "source": [
    "# Subsection 2 - Check of the Density Function #"
   ]
  },
  {
   "cell_type": "code",
   "execution_count": 61,
   "metadata": {},
   "outputs": [],
   "source": [
    "# density function\n",
    "def rho(r,b,M):\n",
    "    return M/(4/3*math.pi*b**3)/(1+(r/b)**2)**(5/2)"
   ]
  },
  {
   "cell_type": "code",
   "execution_count": 62,
   "metadata": {},
   "outputs": [
    {
     "data": {
      "image/png": "[encoded data removed]",
      "text/plain": [
       "<Figure size 432x288 with 1 Axes>"
      ]
     },
     "metadata": {
      "needs_background": "light"
     },
     "output_type": "display_data"
    }
   ],
   "source": [
    "## generation of the theorical density\n",
    "left_range = 0\n",
    "right_range = 3*r_scale\n",
    "density = np.empty(1000)\n",
    "ascissa = np.linspace(left_range,right_range,1000)\n",
    "density = rho(ascissa,r_scale,M)  \n",
    "plt.plot(ascissa,density,label='theorical')\n",
    "\n",
    "## computation of the empirical density\n",
    "counts, bin_edges = np.histogram(radius, bins='auto')  \n",
    "system_density = []\n",
    "for i in range(len(counts)):\n",
    "    system_density.append(counts[i]*m/(4/3*math.pi*(bin_edges[i+1]**3-bin_edges[i]**3)))\n",
    "\n",
    "center = bin_edges[1::]-(bin_edges[1::]-bin_edges[:-1])/2\n",
    "\n",
    "plt.plot(center,system_density,'r.',label='empirical')\n",
    "plt.xlim(left_range,right_range)\n",
    "\n",
    "plt.title('Density Function')\n",
    "plt.xlabel('R',fontsize=12)\n",
    "plt.ylabel('density',fontsize=12)\n",
    "\n",
    "plt.legend()\n",
    "plt.grid()\n",
    "plt.tight_layout()\n",
    "#plt.savefig('density_function_(t={}_Np={}_M={}_Rscal={}).jpg'.format(t[snapshot_to_check],Nparticles,M,r_scale)) \n",
    "\n",
    "## N.B. in order to compute the error associated to the empirical density, one should use \n",
    "## the error propagation\n",
    "## In this case we decided to evaluate the accuracy qualitatively"
   ]
  },
  {
   "cell_type": "code",
   "execution_count": 63,
   "metadata": {},
   "outputs": [],
   "source": [
    "# Subsection 3 - Check of the q distribution "
   ]
  },
  {
   "cell_type": "code",
   "execution_count": 64,
   "metadata": {},
   "outputs": [],
   "source": [
    "q = np.empty([Nparticles])\n",
    "initial_line_position = 3+Nparticles\n",
    "initial_line_velocity = 3+2*Nparticles\n",
    "initial_line_potential = 3+3*Nparticles\n",
    "\n",
    "velocities = np.empty([Nparticles,Ndimensions])\n",
    "\n",
    "velocities = np.genfromtxt(file_name,skip_header=initial_line_velocity,max_rows=Nparticles)\n",
    "\n",
    "vx1 = np.empty([Nparticles])\n",
    "vy1 = np.empty([Nparticles])\n",
    "vz1 = np.empty([Nparticles])\n",
    "modV1 = np.empty([Nparticles]) \n",
    "\n",
    "for i_particle in range(Nparticles):\n",
    "    vx1[i_particle] = velocities[i_particle][0]\n",
    "    vy1[i_particle] = velocities[i_particle][1]\n",
    "    vz1[i_particle] = velocities[i_particle][2]\n",
    "modV1 = pow(vx1**2+vy1**2+vz1**2,0.5)\n",
    "        \n",
    "del velocities # free up memory"
   ]
  },
  {
   "cell_type": "code",
   "execution_count": 65,
   "metadata": {},
   "outputs": [],
   "source": [
    "rel_pot = np.empty([Nparticles])\n",
    "\n",
    "if snapshot_to_check!=0:\n",
    "    rel_pot = -1*(np.genfromtxt(file_name,skip_header=initial_line_potential,max_rows=Nparticles))   \n",
    "else: \n",
    "    rel_pot = M/(radius**2+r_scale**2)**(1/2)       \n",
    "    \n",
    "v_max = (2*rel_pot)**(1/2)\n",
    "q = modV1/v_max"
   ]
  },
  {
   "cell_type": "code",
   "execution_count": 66,
   "metadata": {},
   "outputs": [],
   "source": [
    "Norm = 23.285605868167888 # normalization constant of the distribution function computed \n",
    "                          #  numerically (you can find the code at the end of this notebook)\n",
    "def pdf_q(q,Norm): \n",
    "    return Norm*(1-q**2)**(7/2)*q**2\n",
    "q_max = (2)**(1/2)/3  # abscissa where the distribution 'dist_func' has a maximum\n",
    "f_max = pdf_q(q_max,Norm)"
   ]
  },
  {
   "cell_type": "code",
   "execution_count": 67,
   "metadata": {},
   "outputs": [
    {
     "data": {
      "image/png": "[encoded data removed]",
      "text/plain": [
       "<Figure size 432x288 with 1 Axes>"
      ]
     },
     "metadata": {
      "needs_background": "light"
     },
     "output_type": "display_data"
    }
   ],
   "source": [
    "# Histogram Section #\n",
    "\n",
    "counts, edges = np.histogram(q,bins='auto')\n",
    "area = sum(np.diff(edges)*counts)\n",
    "error = np.sqrt(counts) # Poissonian errors\n",
    "bincenters = 0.5*(edges[1:]+edges[:-1])\n",
    "\n",
    "normalized_counts_q, Bin_edges_q, hist_q = plt.hist(q,bins='auto',range=None,density=True,\n",
    "                                                    color='c',edgecolor='black',label='empirical')\n",
    "\n",
    "error = error/area # the error bar must be rescaled since we normalized the histogram \n",
    "plt.errorbar(bincenters,normalized_counts_q,yerr=error,fmt='none',label='error',color='k')\n",
    "\n",
    "## generation of the arrays containing some pdf's points\n",
    "q_pdf = np.empty(1000)\n",
    "ascissa = np.linspace(0,1,1000)\n",
    "q_pdf = pdf_q(ascissa,Norm)        \n",
    "        \n",
    "plt.plot(ascissa,q_pdf,color='r',label='pdf(q)')\n",
    "\n",
    "plt.title('q Distribution')\n",
    "plt.xlabel('q',fontsize=12)\n",
    "plt.ylabel('pdf(q)',fontsize=12)\n",
    "\n",
    "plt.legend()\n",
    "plt.tight_layout()\n",
    "#plt.savefig('q_histo_(t={}_Np={}_M={}_Rscal={}).jpg'.format(t[snapshot_to_check],Nparticles,M,r_scale,pvalue)) "
   ]
  },
  {
   "cell_type": "code",
   "execution_count": 68,
   "metadata": {},
   "outputs": [],
   "source": [
    "###################################################################################################################"
   ]
  },
  {
   "cell_type": "code",
   "execution_count": null,
   "metadata": {},
   "outputs": [],
   "source": [
    "\"\"\"\n",
    "## Computation of the normalization constant, N, of the distribution function f(q)=N*(1-q**2)**(7/2)*q**2\n",
    "def dist_func(q):\n",
    "    return (1-q**2)**(7/2)*q**2\n",
    "q_max = (2)**(1/2)/3  # computing: derivative(distribution_function)=0\n",
    "f_max = dist_func(q_max)\n",
    "points = 1e08\n",
    "points = int(points)\n",
    "accepted = 0 # number of points accepted\n",
    "for i in range(points):\n",
    "    k1 = np.random.random() # generation of x between [0,1], interval of definition of f(q)\n",
    "    k2 = np.random.random()*f_max # generation of y between [0,f_max], in the square that contains f(q)\n",
    "    if k2<=dist_func(k1):\n",
    "        accepted = accepted+1\n",
    "f_area = (accepted/points)*(f_max*1) # fraction_accepted*area_square\n",
    "f_normalization = f_area**(-1)\n",
    "print('Normalization constant of the distribution function (points={}): {}'.format(points,f_normalization))\n",
    "# Normalization constant of the distribution function (points=1e08): 23.285605868167888\n",
    "\"\"\""
   ]
  },
  {
   "cell_type": "code",
   "execution_count": null,
   "metadata": {},
   "outputs": [],
   "source": [
    "'''\n",
    "import time\n",
    "start_time = time.time()\n",
    "main()\n",
    "print(\"--- %s seconds ---\" % (time.time() - start_time))\n",
    "'''"
   ]
  }
 ],
 "metadata": {
  "kernelspec": {
   "display_name": "Python 3",
   "language": "python",
   "name": "python3"
  },
  "language_info": {
   "codemirror_mode": {
    "name": "ipython",
    "version": 3
   },
   "file_extension": ".py",
   "mimetype": "text/x-python",
   "name": "python",
   "nbconvert_exporter": "python",
   "pygments_lexer": "ipython3",
   "version": "3.8.2"
  }
 },
 "nbformat": 4,
 "nbformat_minor": 4
}
